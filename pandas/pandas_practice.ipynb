{
 "cells": [
  {
   "cell_type": "markdown",
   "id": "41804a83-3c12-4a7f-a6b0-193205298427",
   "metadata": {},
   "source": [
    "# Introduction to Pandas\n",
    "\n",
    "Pandas is a high-level data manipulation package which was built on top of Numpy. The key structures within pandas include Series and Dataframes."
   ]
  },
  {
   "cell_type": "markdown",
   "id": "1304ad10-a7b1-4604-b44e-c5921e309b24",
   "metadata": {},
   "source": [
    "## Series\n",
    "\n",
    "A Series is a one-dimensional array with axis labels (an index)."
   ]
  },
  {
   "cell_type": "code",
   "execution_count": 2,
   "id": "c121f24a-16e4-46f1-b72f-28237a304c26",
   "metadata": {},
   "outputs": [],
   "source": [
    "# importing libraries and packages \n",
    "import numpy as np\n",
    "import pandas as pd\n",
    "from pandas import Series, DataFrame"
   ]
  },
  {
   "cell_type": "code",
   "execution_count": 3,
   "id": "4137eb95-3a79-4dac-a72a-ae43c15bbd58",
   "metadata": {},
   "outputs": [
    {
     "data": {
      "text/plain": [
       "0    10\n",
       "1    20\n",
       "2    30\n",
       "3    40\n",
       "4    50\n",
       "dtype: int64"
      ]
     },
     "execution_count": 3,
     "metadata": {},
     "output_type": "execute_result"
    }
   ],
   "source": [
    "# creating a Series from a list \n",
    "x = pd.Series([10,20,30,40,50])\n",
    "x"
   ]
  },
  {
   "cell_type": "markdown",
   "id": "f3774888-becc-446b-9708-b212079606d0",
   "metadata": {},
   "source": [
    "we can access different components separately:"
   ]
  },
  {
   "cell_type": "code",
   "execution_count": 6,
   "id": "25f3dbe3-b7c6-45a0-b2b7-4722de09bb8a",
   "metadata": {},
   "outputs": [
    {
     "data": {
      "text/plain": [
       "RangeIndex(start=0, stop=5, step=1)"
      ]
     },
     "execution_count": 6,
     "metadata": {},
     "output_type": "execute_result"
    }
   ],
   "source": [
    "# accessing the index\n",
    "x.index"
   ]
  },
  {
   "cell_type": "code",
   "execution_count": 7,
   "id": "e7235958-0a23-4614-afb1-dc3d5ec84830",
   "metadata": {},
   "outputs": [
    {
     "data": {
      "text/plain": [
       "array([10, 20, 30, 40, 50])"
      ]
     },
     "execution_count": 7,
     "metadata": {},
     "output_type": "execute_result"
    }
   ],
   "source": [
    "# accessing the values \n",
    "x.values"
   ]
  },
  {
   "cell_type": "code",
   "execution_count": 9,
   "id": "cefd5ff2-b447-42ee-bc74-007f0051c6df",
   "metadata": {},
   "outputs": [
    {
     "data": {
      "text/plain": [
       "dtype('int64')"
      ]
     },
     "execution_count": 9,
     "metadata": {},
     "output_type": "execute_result"
    }
   ],
   "source": [
    "# accessing the datatype \n",
    "# a Series is an ndarray, thus it's homogeneous and CANNOT store multiple dtypes\n",
    "x.dtype"
   ]
  },
  {
   "cell_type": "code",
   "execution_count": 12,
   "id": "8c41f477-49ff-4925-8cd7-17df96855e33",
   "metadata": {},
   "outputs": [
    {
     "data": {
      "text/plain": [
       "Don      450\n",
       "Mike     650\n",
       "Edwin    870\n",
       "dtype: int64"
      ]
     },
     "execution_count": 12,
     "metadata": {},
     "output_type": "execute_result"
    }
   ],
   "source": [
    "# create a Series with an index\n",
    "data = [450, 650, 870]\n",
    "sales = Series(data, index=['Don', 'Mike', 'Edwin'])\n",
    "sales"
   ]
  },
  {
   "cell_type": "code",
   "execution_count": 13,
   "id": "1835d366-abc2-4e7a-bfe4-ac5d0251a1e5",
   "metadata": {},
   "outputs": [
    {
     "data": {
      "text/plain": [
       "pandas.core.series.Series"
      ]
     },
     "execution_count": 13,
     "metadata": {},
     "output_type": "execute_result"
    }
   ],
   "source": [
    "# check the type \n",
    "type(sales)"
   ]
  },
  {
   "cell_type": "code",
   "execution_count": 14,
   "id": "5c0fd4e1-d5ac-47c1-a41c-f24452d4574a",
   "metadata": {},
   "outputs": [
    {
     "data": {
      "text/plain": [
       "Index(['Don', 'Mike', 'Edwin'], dtype='object')"
      ]
     },
     "execution_count": 14,
     "metadata": {},
     "output_type": "execute_result"
    }
   ],
   "source": [
    "# if we check the index of sales, we will get the values, rather than the range, because it's a string\n",
    "sales.index"
   ]
  },
  {
   "cell_type": "markdown",
   "id": "5ad3ae96-d24f-4a03-855a-5a7899090933",
   "metadata": {},
   "source": [
    "### Accessing Values "
   ]
  },
  {
   "cell_type": "code",
   "execution_count": 15,
   "id": "10597a4b-c112-4955-9076-4239f2a13df2",
   "metadata": {},
   "outputs": [
    {
     "data": {
      "text/plain": [
       "np.int64(450)"
      ]
     },
     "execution_count": 15,
     "metadata": {},
     "output_type": "execute_result"
    }
   ],
   "source": [
    "# you can access values using the index name\n",
    "sales['Don']"
   ]
  },
  {
   "cell_type": "code",
   "execution_count": 16,
   "id": "a9231cdb-ca10-44d5-9090-d56345bc433a",
   "metadata": {},
   "outputs": [
    {
     "name": "stderr",
     "output_type": "stream",
     "text": [
      "/var/folders/z9/n1_8qnzn42zgh78ctd7ngg5w0000gn/T/ipykernel_12696/4004319294.py:2: FutureWarning: Series.__getitem__ treating keys as positions is deprecated. In a future version, integer keys will always be treated as labels (consistent with DataFrame behavior). To access a value by position, use `ser.iloc[pos]`\n",
      "  sales[0]\n"
     ]
    },
    {
     "data": {
      "text/plain": [
       "np.int64(450)"
      ]
     },
     "execution_count": 16,
     "metadata": {},
     "output_type": "execute_result"
    }
   ],
   "source": [
    "# you can still use traditional indexing\n",
    "sales[0]"
   ]
  },
  {
   "cell_type": "markdown",
   "id": "118fd026-d6b5-4627-ad1d-12ec1747a93e",
   "metadata": {},
   "source": [
    "### Checking for conditions "
   ]
  },
  {
   "cell_type": "code",
   "execution_count": 18,
   "id": "5c9b9d19-1f93-4ff9-a5ef-5aaea1c7f8c0",
   "metadata": {},
   "outputs": [
    {
     "data": {
      "text/plain": [
       "Don      False\n",
       "Mike      True\n",
       "Edwin     True\n",
       "dtype: bool"
      ]
     },
     "execution_count": 18,
     "metadata": {},
     "output_type": "execute_result"
    }
   ],
   "source": [
    "# you can filter based on conditions \n",
    "sales>500\n",
    "# this will usually return booleans"
   ]
  },
  {
   "cell_type": "code",
   "execution_count": 19,
   "id": "b35b70c5-b4f7-488d-8edc-5035c3946e2f",
   "metadata": {},
   "outputs": [
    {
     "data": {
      "text/plain": [
       "Mike     650\n",
       "Edwin    870\n",
       "dtype: int64"
      ]
     },
     "execution_count": 19,
     "metadata": {},
     "output_type": "execute_result"
    }
   ],
   "source": [
    "# we can use these booleans \n",
    "sales[[False, True, True]]"
   ]
  },
  {
   "cell_type": "code",
   "execution_count": 20,
   "id": "9d58882e-7899-40d1-bf33-3700384381ce",
   "metadata": {},
   "outputs": [
    {
     "data": {
      "text/plain": [
       "Mike     650\n",
       "Edwin    870\n",
       "dtype: int64"
      ]
     },
     "execution_count": 20,
     "metadata": {},
     "output_type": "execute_result"
    }
   ],
   "source": [
    "# if we want to see values greater than 500, we can use those booleans\n",
    "sales[sales>500]"
   ]
  },
  {
   "cell_type": "code",
   "execution_count": 21,
   "id": "8e25ea87-efdc-4993-9dac-1d3af537e523",
   "metadata": {},
   "outputs": [
    {
     "data": {
      "text/plain": [
       "True"
      ]
     },
     "execution_count": 21,
     "metadata": {},
     "output_type": "execute_result"
    }
   ],
   "source": [
    "# checking the names in the index\n",
    "'Don' in sales"
   ]
  },
  {
   "cell_type": "code",
   "execution_count": 22,
   "id": "f4541429-324b-4829-9a28-f7ee036a8c82",
   "metadata": {},
   "outputs": [
    {
     "data": {
      "text/plain": [
       "False"
      ]
     },
     "execution_count": 22,
     "metadata": {},
     "output_type": "execute_result"
    }
   ],
   "source": [
    "# false example\n",
    "'Sally' in sales"
   ]
  },
  {
   "cell_type": "code",
   "execution_count": 23,
   "id": "54efd198-7c02-4d0a-a0bc-a7b4e276c0ff",
   "metadata": {},
   "outputs": [
    {
     "data": {
      "text/plain": [
       "False"
      ]
     },
     "execution_count": 23,
     "metadata": {},
     "output_type": "execute_result"
    }
   ],
   "source": [
    "# what about this?\n",
    "450 in sales\n",
    "# 450 is not an index, it's a value. Thus it will return false"
   ]
  },
  {
   "cell_type": "markdown",
   "id": "7da10bd1-88e3-4126-9892-293091ec08ff",
   "metadata": {},
   "source": [
    "### Working with Dictionaries "
   ]
  },
  {
   "cell_type": "code",
   "execution_count": 24,
   "id": "f290b138-a761-416d-9d6e-246e6a24fade",
   "metadata": {},
   "outputs": [
    {
     "data": {
      "text/plain": [
       "{'Don': 450, 'Mike': 650, 'Edwin': 870}"
      ]
     },
     "execution_count": 24,
     "metadata": {},
     "output_type": "execute_result"
    }
   ],
   "source": [
    "# converting a series to a dictionary \n",
    "sales_dict = sales.to_dict()\n",
    "sales_dict"
   ]
  },
  {
   "cell_type": "code",
   "execution_count": 25,
   "id": "493074ab-e0bc-4486-9c4c-6359c1536e3e",
   "metadata": {},
   "outputs": [
    {
     "data": {
      "text/plain": [
       "Don      450\n",
       "Mike     650\n",
       "Edwin    870\n",
       "dtype: int64"
      ]
     },
     "execution_count": 25,
     "metadata": {},
     "output_type": "execute_result"
    }
   ],
   "source": [
    "# converting a dict to a series \n",
    "sales_series = Series(sales_dict)\n",
    "sales_series"
   ]
  },
  {
   "cell_type": "markdown",
   "id": "b0e28e44-b8ae-48ff-bf91-5a606fdb3ac6",
   "metadata": {},
   "source": [
    "### Adding entries and working with NaN/null values"
   ]
  },
  {
   "cell_type": "code",
   "execution_count": 29,
   "id": "8db828e5-32da-42f6-981d-c8661b64b0ef",
   "metadata": {},
   "outputs": [
    {
     "data": {
      "text/plain": [
       "Don      450.0\n",
       "Mike     650.0\n",
       "Sally      NaN\n",
       "Edwin    870.0\n",
       "Lucy       NaN\n",
       "dtype: float64"
      ]
     },
     "execution_count": 29,
     "metadata": {},
     "output_type": "execute_result"
    }
   ],
   "source": [
    "# we can create a new Series from an existing Series \n",
    "# if we can specify names in the index that were NOT there already, NaN values will be assigned \n",
    "new_sales = Series(sales, index=['Don', 'Mike', 'Sally','Edwin','Lucy'])\n",
    "new_sales"
   ]
  },
  {
   "cell_type": "code",
   "execution_count": 30,
   "id": "4a615f32-4053-4b61-99e8-0afe933e620b",
   "metadata": {},
   "outputs": [
    {
     "data": {
      "text/plain": [
       "Don      False\n",
       "Mike     False\n",
       "Sally     True\n",
       "Edwin    False\n",
       "Lucy      True\n",
       "dtype: bool"
      ]
     },
     "execution_count": 30,
     "metadata": {},
     "output_type": "execute_result"
    }
   ],
   "source": [
    "# we can check if there are any NaN values in a Series \n",
    "# for this we use numpy! \n",
    "np.isnan(new_sales)"
   ]
  },
  {
   "cell_type": "code",
   "execution_count": 31,
   "id": "2fefe1e5-af58-4870-8857-0bf34ff82306",
   "metadata": {},
   "outputs": [
    {
     "data": {
      "text/plain": [
       "Don      False\n",
       "Mike     False\n",
       "Sally     True\n",
       "Edwin    False\n",
       "Lucy      True\n",
       "dtype: bool"
      ]
     },
     "execution_count": 31,
     "metadata": {},
     "output_type": "execute_result"
    }
   ],
   "source": [
    "# to check for null values, use pandas\n",
    "pd.isnull(new_sales)"
   ]
  },
  {
   "cell_type": "markdown",
   "id": "d6ca605b-6c25-4dbf-a63d-87d4e555f7a6",
   "metadata": {},
   "source": [
    "### Naming components in a Series "
   ]
  },
  {
   "cell_type": "code",
   "execution_count": 33,
   "id": "de4c1714-9b80-45c3-8140-9ff864367a97",
   "metadata": {},
   "outputs": [
    {
     "data": {
      "text/plain": [
       "Sales person\n",
       "Don      450\n",
       "Mike     650\n",
       "Edwin    870\n",
       "dtype: int64"
      ]
     },
     "execution_count": 33,
     "metadata": {},
     "output_type": "execute_result"
    }
   ],
   "source": [
    "# name an index \n",
    "sales.index.name = 'Sales person'\n",
    "sales"
   ]
  },
  {
   "cell_type": "code",
   "execution_count": 34,
   "id": "45dbabae-913c-4d9b-8db7-482357c81abd",
   "metadata": {},
   "outputs": [
    {
     "data": {
      "text/plain": [
       "Sales person\n",
       "Don      450\n",
       "Mike     650\n",
       "Edwin    870\n",
       "Name: Total tv sales, dtype: int64"
      ]
     },
     "execution_count": 34,
     "metadata": {},
     "output_type": "execute_result"
    }
   ],
   "source": [
    "# naming a Series \n",
    "sales.name = 'Total tv sales'\n",
    "sales"
   ]
  },
  {
   "cell_type": "markdown",
   "id": "ba372662-8536-4c24-99b0-a0f4a3006052",
   "metadata": {},
   "source": [
    "## DataFrames\n",
    "\n",
    "DataFrames are two-dimensional, size-mutable, potentially heterogeneous tabular data structures. This data structure contains TWO labeled axes (rows and columns)."
   ]
  },
  {
   "cell_type": "markdown",
   "id": "24116a68-08fc-4022-ab9a-a82792f3967f",
   "metadata": {},
   "source": [
    "### Creating a DataFrame "
   ]
  },
  {
   "cell_type": "code",
   "execution_count": 39,
   "id": "65e2ef62-d920-4503-a560-1350430801c3",
   "metadata": {},
   "outputs": [
    {
     "data": {
      "text/html": [
       "<div>\n",
       "<style scoped>\n",
       "    .dataframe tbody tr th:only-of-type {\n",
       "        vertical-align: middle;\n",
       "    }\n",
       "\n",
       "    .dataframe tbody tr th {\n",
       "        vertical-align: top;\n",
       "    }\n",
       "\n",
       "    .dataframe thead th {\n",
       "        text-align: right;\n",
       "    }\n",
       "</style>\n",
       "<table border=\"1\" class=\"dataframe\">\n",
       "  <thead>\n",
       "    <tr style=\"text-align: right;\">\n",
       "      <th></th>\n",
       "      <th>Name</th>\n",
       "      <th>Age</th>\n",
       "    </tr>\n",
       "  </thead>\n",
       "  <tbody>\n",
       "    <tr>\n",
       "      <th>0</th>\n",
       "      <td>Adrian</td>\n",
       "      <td>20</td>\n",
       "    </tr>\n",
       "    <tr>\n",
       "      <th>1</th>\n",
       "      <td>Bethany</td>\n",
       "      <td>23</td>\n",
       "    </tr>\n",
       "    <tr>\n",
       "      <th>2</th>\n",
       "      <td>Chloe</td>\n",
       "      <td>41</td>\n",
       "    </tr>\n",
       "  </tbody>\n",
       "</table>\n",
       "</div>"
      ],
      "text/plain": [
       "      Name  Age\n",
       "0   Adrian   20\n",
       "1  Bethany   23\n",
       "2    Chloe   41"
      ]
     },
     "execution_count": 39,
     "metadata": {},
     "output_type": "execute_result"
    }
   ],
   "source": [
    "# creating a DataFrame from a list \n",
    "data = [['Adrian', 20], ['Bethany', 23], ['Chloe', 41]]\n",
    "\n",
    "# when we create a DataFrame, we can specify what the column names are and the data type is\n",
    "\n",
    "df = pd.DataFrame(data, columns=['Name', 'Age'])\n",
    "df"
   ]
  },
  {
   "cell_type": "code",
   "execution_count": 64,
   "id": "74a1168f-ae99-47bd-aba8-9ef63e28814f",
   "metadata": {},
   "outputs": [
    {
     "data": {
      "text/html": [
       "<div>\n",
       "<style scoped>\n",
       "    .dataframe tbody tr th:only-of-type {\n",
       "        vertical-align: middle;\n",
       "    }\n",
       "\n",
       "    .dataframe tbody tr th {\n",
       "        vertical-align: top;\n",
       "    }\n",
       "\n",
       "    .dataframe thead th {\n",
       "        text-align: right;\n",
       "    }\n",
       "</style>\n",
       "<table border=\"1\" class=\"dataframe\">\n",
       "  <thead>\n",
       "    <tr style=\"text-align: right;\">\n",
       "      <th></th>\n",
       "      <th>Name</th>\n",
       "      <th>Age</th>\n",
       "      <th>Job</th>\n",
       "    </tr>\n",
       "  </thead>\n",
       "  <tbody>\n",
       "    <tr>\n",
       "      <th>0</th>\n",
       "      <td>Adrian</td>\n",
       "      <td>20</td>\n",
       "      <td>Data Engineer</td>\n",
       "    </tr>\n",
       "  </tbody>\n",
       "</table>\n",
       "</div>"
      ],
      "text/plain": [
       "     Name  Age            Job\n",
       "0  Adrian   20  Data Engineer"
      ]
     },
     "execution_count": 64,
     "metadata": {},
     "output_type": "execute_result"
    }
   ],
   "source": [
    "# creating a DataFrame from a dictionary\n",
    "data = {'Name': 'Adrian', 'Age':20, 'Job':'Data Engineer'}\n",
    "df_from_dict = pd.DataFrame([data])\n",
    "df_from_dict"
   ]
  },
  {
   "cell_type": "code",
   "execution_count": 73,
   "id": "300903db-41a3-455c-ad19-50cc3f1e66ee",
   "metadata": {},
   "outputs": [
    {
     "data": {
      "text/html": [
       "<div>\n",
       "<style scoped>\n",
       "    .dataframe tbody tr th:only-of-type {\n",
       "        vertical-align: middle;\n",
       "    }\n",
       "\n",
       "    .dataframe tbody tr th {\n",
       "        vertical-align: top;\n",
       "    }\n",
       "\n",
       "    .dataframe thead th {\n",
       "        text-align: right;\n",
       "    }\n",
       "</style>\n",
       "<table border=\"1\" class=\"dataframe\">\n",
       "  <thead>\n",
       "    <tr style=\"text-align: right;\">\n",
       "      <th></th>\n",
       "      <th>Name</th>\n",
       "      <th>Age</th>\n",
       "      <th>Job</th>\n",
       "    </tr>\n",
       "  </thead>\n",
       "  <tbody>\n",
       "    <tr>\n",
       "      <th>Person1</th>\n",
       "      <td>Adrian</td>\n",
       "      <td>20</td>\n",
       "      <td>Data Engineer</td>\n",
       "    </tr>\n",
       "  </tbody>\n",
       "</table>\n",
       "</div>"
      ],
      "text/plain": [
       "           Name  Age            Job\n",
       "Person1  Adrian   20  Data Engineer"
      ]
     },
     "execution_count": 73,
     "metadata": {},
     "output_type": "execute_result"
    }
   ],
   "source": [
    "# adding custom indexes\n",
    "# we can use index= to set a custom index. the index value must be stored in an iterable(list, tuple, or array)\n",
    "df = pd.DataFrame([{'Name': 'Adrian', 'Age':20, 'Job':'Data Engineer'}], index=['Person1'])\n",
    "df"
   ]
  },
  {
   "cell_type": "code",
   "execution_count": 100,
   "id": "9c6a6b55-5b93-45fe-b6dc-40565f06340d",
   "metadata": {},
   "outputs": [
    {
     "data": {
      "text/html": [
       "<div>\n",
       "<style scoped>\n",
       "    .dataframe tbody tr th:only-of-type {\n",
       "        vertical-align: middle;\n",
       "    }\n",
       "\n",
       "    .dataframe tbody tr th {\n",
       "        vertical-align: top;\n",
       "    }\n",
       "\n",
       "    .dataframe thead th {\n",
       "        text-align: right;\n",
       "    }\n",
       "</style>\n",
       "<table border=\"1\" class=\"dataframe\">\n",
       "  <thead>\n",
       "    <tr style=\"text-align: right;\">\n",
       "      <th></th>\n",
       "      <th>Name</th>\n",
       "      <th>Age</th>\n",
       "      <th>Job</th>\n",
       "    </tr>\n",
       "  </thead>\n",
       "  <tbody>\n",
       "    <tr>\n",
       "      <th>Person1</th>\n",
       "      <td>Adrian</td>\n",
       "      <td>20</td>\n",
       "      <td>Data Engineer</td>\n",
       "    </tr>\n",
       "    <tr>\n",
       "      <th>Person2</th>\n",
       "      <td>Alex</td>\n",
       "      <td>30</td>\n",
       "      <td>Software Engineer</td>\n",
       "    </tr>\n",
       "    <tr>\n",
       "      <th>Person3</th>\n",
       "      <td>Harold</td>\n",
       "      <td>27</td>\n",
       "      <td>Cloud Engineer</td>\n",
       "    </tr>\n",
       "  </tbody>\n",
       "</table>\n",
       "</div>"
      ],
      "text/plain": [
       "           Name  Age                Job\n",
       "Person1  Adrian   20      Data Engineer\n",
       "Person2    Alex   30  Software Engineer\n",
       "Person3  Harold   27     Cloud Engineer"
      ]
     },
     "execution_count": 100,
     "metadata": {},
     "output_type": "execute_result"
    }
   ],
   "source": [
    "# creating a DataFrame from a list of dictionaries is very similar: \n",
    "\n",
    "data = [\n",
    "    {'Name': 'Adrian', 'Age':20, 'Job':'Data Engineer'},\n",
    "    {'Name': 'Alex', 'Age':30, 'Job':'Software Engineer'},\n",
    "    {'Name': 'Harold', 'Age':27, 'Job':'Cloud Engineer'}\n",
    "]\n",
    "\n",
    "df_people = pd.DataFrame(data, index=['Person1', 'Person2', 'Person3'])\n",
    "df_people"
   ]
  },
  {
   "cell_type": "code",
   "execution_count": 88,
   "id": "72d7ee44-4671-46a2-a2a7-f5b2f1800fb2",
   "metadata": {},
   "outputs": [
    {
     "data": {
      "text/html": [
       "<div>\n",
       "<style scoped>\n",
       "    .dataframe tbody tr th:only-of-type {\n",
       "        vertical-align: middle;\n",
       "    }\n",
       "\n",
       "    .dataframe tbody tr th {\n",
       "        vertical-align: top;\n",
       "    }\n",
       "\n",
       "    .dataframe thead th {\n",
       "        text-align: right;\n",
       "    }\n",
       "</style>\n",
       "<table border=\"1\" class=\"dataframe\">\n",
       "  <thead>\n",
       "    <tr style=\"text-align: right;\">\n",
       "      <th>Sales person</th>\n",
       "      <th>Don</th>\n",
       "      <th>Mike</th>\n",
       "      <th>Edwin</th>\n",
       "    </tr>\n",
       "  </thead>\n",
       "  <tbody>\n",
       "    <tr>\n",
       "      <th>Total tv sales</th>\n",
       "      <td>450</td>\n",
       "      <td>650</td>\n",
       "      <td>870</td>\n",
       "    </tr>\n",
       "  </tbody>\n",
       "</table>\n",
       "</div>"
      ],
      "text/plain": [
       "Sales person    Don  Mike  Edwin\n",
       "Total tv sales  450   650    870"
      ]
     },
     "execution_count": 88,
     "metadata": {},
     "output_type": "execute_result"
    }
   ],
   "source": [
    "# creating a DataFrame from a Series\n",
    "df_sales = pd.DataFrame([sales])\n",
    "df_sales"
   ]
  },
  {
   "cell_type": "code",
   "execution_count": 101,
   "id": "1d631414-629c-4d2b-ac3d-0e20563e2cf1",
   "metadata": {},
   "outputs": [
    {
     "data": {
      "text/html": [
       "<div>\n",
       "<style scoped>\n",
       "    .dataframe tbody tr th:only-of-type {\n",
       "        vertical-align: middle;\n",
       "    }\n",
       "\n",
       "    .dataframe tbody tr th {\n",
       "        vertical-align: top;\n",
       "    }\n",
       "\n",
       "    .dataframe thead th {\n",
       "        text-align: right;\n",
       "    }\n",
       "</style>\n",
       "<table border=\"1\" class=\"dataframe\">\n",
       "  <thead>\n",
       "    <tr style=\"text-align: right;\">\n",
       "      <th></th>\n",
       "      <th>Name</th>\n",
       "      <th>Age</th>\n",
       "      <th>Job</th>\n",
       "    </tr>\n",
       "  </thead>\n",
       "  <tbody>\n",
       "    <tr>\n",
       "      <th>0</th>\n",
       "      <td>Adrian</td>\n",
       "      <td>20</td>\n",
       "      <td>Data Engineer</td>\n",
       "    </tr>\n",
       "    <tr>\n",
       "      <th>1</th>\n",
       "      <td>Alex</td>\n",
       "      <td>30</td>\n",
       "      <td>Software Engineer</td>\n",
       "    </tr>\n",
       "    <tr>\n",
       "      <th>2</th>\n",
       "      <td>Harold</td>\n",
       "      <td>27</td>\n",
       "      <td>Cloud Engineer</td>\n",
       "    </tr>\n",
       "    <tr>\n",
       "      <th>3</th>\n",
       "      <td>Adrian2</td>\n",
       "      <td>20</td>\n",
       "      <td>Data Engineer</td>\n",
       "    </tr>\n",
       "  </tbody>\n",
       "</table>\n",
       "</div>"
      ],
      "text/plain": [
       "      Name Age                Job\n",
       "0   Adrian  20      Data Engineer\n",
       "1     Alex  30  Software Engineer\n",
       "2   Harold  27     Cloud Engineer\n",
       "3  Adrian2  20      Data Engineer"
      ]
     },
     "execution_count": 101,
     "metadata": {},
     "output_type": "execute_result"
    }
   ],
   "source": [
    "# adding a Series to an existing DataFrame\n",
    "\n",
    "new_series = Series({'Name': 'Adrian2', 'Age':20, 'Job':'Data Engineer'})\n",
    "# transforms a series into a single row in DataFrame\n",
    "# .T is transpose operation. It flips the DataFrame so that the original series index become the columns and the original series values become a single row\n",
    "df_people = pd.concat([df_people, new_series.to_frame().T], ignore_index=True)\n",
    "df_people"
   ]
  },
  {
   "cell_type": "code",
   "execution_count": 81,
   "id": "7207cf8f-524a-4ea9-bf91-0f3eb9ced4d1",
   "metadata": {},
   "outputs": [],
   "source": [
    "# shifting/changing a DataFrame's index"
   ]
  },
  {
   "cell_type": "code",
   "execution_count": 82,
   "id": "0b16455e-0f84-478a-8bfc-019e6e885aa5",
   "metadata": {},
   "outputs": [],
   "source": [
    "# Filling in missing values"
   ]
  },
  {
   "cell_type": "code",
   "execution_count": null,
   "id": "6a842b3b-389d-4901-9741-a60f6ab195ad",
   "metadata": {},
   "outputs": [],
   "source": [
    "# what if we do not want to fill every value with the same data?\n",
    "#backfill\n",
    "#bfill\n",
    "#pad\n",
    "#ffill"
   ]
  }
 ],
 "metadata": {
  "kernelspec": {
   "display_name": "Python 3 (ipykernel)",
   "language": "python",
   "name": "python3"
  },
  "language_info": {
   "codemirror_mode": {
    "name": "ipython",
    "version": 3
   },
   "file_extension": ".py",
   "mimetype": "text/x-python",
   "name": "python",
   "nbconvert_exporter": "python",
   "pygments_lexer": "ipython3",
   "version": "3.13.0"
  }
 },
 "nbformat": 4,
 "nbformat_minor": 5
}
