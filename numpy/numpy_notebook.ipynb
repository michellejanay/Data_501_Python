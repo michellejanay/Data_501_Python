{
 "cells": [
  {
   "cell_type": "markdown",
   "id": "f56b930a-5347-478e-8871-8aabf360c47f",
   "metadata": {},
   "source": [
    "# Numpy"
   ]
  },
  {
   "cell_type": "markdown",
   "id": "c581d9e3-a44e-424b-bebf-72a02ab036ca",
   "metadata": {},
   "source": [
    "Numpy is a library which provides support for large, homogeneous, multi-dimensional arrays and matrices"
   ]
  },
  {
   "cell_type": "code",
   "execution_count": 2,
   "id": "58b50ab1-0642-4cd3-853c-f76be9b48937",
   "metadata": {},
   "outputs": [],
   "source": [
    "import numpy as np"
   ]
  },
  {
   "cell_type": "markdown",
   "id": "54a1247f-6a44-4559-99d6-1071bfdb19e4",
   "metadata": {},
   "source": [
    "## Creating a list in Numpy\n",
    "\n",
    "### Creating an array from a list"
   ]
  },
  {
   "cell_type": "code",
   "execution_count": 27,
   "id": "e828e197-9d0b-4d71-a1f6-fa60faca2669",
   "metadata": {},
   "outputs": [
    {
     "data": {
      "text/plain": [
       "[10, 20, 30]"
      ]
     },
     "execution_count": 27,
     "metadata": {},
     "output_type": "execute_result"
    }
   ],
   "source": [
    "list1 = [10, 20, 30]\n",
    "list1"
   ]
  },
  {
   "cell_type": "code",
   "execution_count": 8,
   "id": "98f7105a-61f4-4b63-9a25-ed724691ce43",
   "metadata": {},
   "outputs": [
    {
     "data": {
      "text/plain": [
       "array([10, 20, 30])"
      ]
     },
     "execution_count": 8,
     "metadata": {},
     "output_type": "execute_result"
    }
   ],
   "source": [
    "arr1 = np.array(list1)\n",
    "arr1"
   ]
  },
  {
   "cell_type": "code",
   "execution_count": 6,
   "id": "810ab7f4-a5e0-46d5-9636-5621a2276d87",
   "metadata": {},
   "outputs": [
    {
     "data": {
      "text/plain": [
       "numpy.ndarray"
      ]
     },
     "execution_count": 6,
     "metadata": {},
     "output_type": "execute_result"
    }
   ],
   "source": [
    "type(arr1)"
   ]
  },
  {
   "cell_type": "markdown",
   "id": "f044dc59-3e03-42dd-85fe-6c9a60380203",
   "metadata": {},
   "source": [
    "## Using arrange to create an array\n",
    "\n",
    "The difference between array and arrange is that array takes in a list and turns it into an array, whereas arrange creates an array from a range of numbers."
   ]
  },
  {
   "cell_type": "code",
   "execution_count": 7,
   "id": "39bca461-5138-4a0c-91e5-3d06d0e5881a",
   "metadata": {},
   "outputs": [
    {
     "data": {
      "text/plain": [
       "array([10, 11, 12, 13, 14, 15, 16, 17, 18, 19])"
      ]
     },
     "execution_count": 7,
     "metadata": {},
     "output_type": "execute_result"
    }
   ],
   "source": [
    "arr2 = np.arange(10, 20, 1) # (start, stop, step-size)\n",
    "arr2"
   ]
  },
  {
   "cell_type": "markdown",
   "id": "fc5e1ac1-68b4-4d3a-a783-9c439eb1d34f",
   "metadata": {},
   "source": [
    "## Multideminsional arrays\n",
    "\n",
    "### Combining two list - Two-dimensional arrays\n",
    "\n",
    "When we combine arrays together, we can add dimensions. Combining two arrays gives us a 2d array!\n",
    "\n",
    "This creates a matrix for us on which we can perform matrix operations."
   ]
  },
  {
   "cell_type": "code",
   "execution_count": 12,
   "id": "9aa171ef-0e91-455a-b31e-d4f1f75aaee5",
   "metadata": {},
   "outputs": [
    {
     "data": {
      "text/plain": [
       "array([[10, 20, 30],\n",
       "       [40, 50, 60]])"
      ]
     },
     "execution_count": 12,
     "metadata": {},
     "output_type": "execute_result"
    }
   ],
   "source": [
    "# let's create a new list to join onto the first list \n",
    "list2 = [40, 50, 60]\n",
    "\n",
    "# join the lists\n",
    "list3 = [list1, list2]\n",
    "\n",
    "# create an array out of the joined lists\n",
    "arr3 = np.array(list3)\n",
    "arr3"
   ]
  },
  {
   "cell_type": "code",
   "execution_count": 14,
   "id": "9fd6c908-dfdb-4ba1-b2a4-914297093d28",
   "metadata": {},
   "outputs": [
    {
     "data": {
      "text/plain": [
       "(2, 3)"
      ]
     },
     "execution_count": 14,
     "metadata": {},
     "output_type": "execute_result"
    }
   ],
   "source": [
    "# lets find the shape of that array\n",
    "# we have a 2d array, with 2 elements in the first instance and 3 in the second\n",
    "\n",
    "arr3.shape"
   ]
  },
  {
   "cell_type": "markdown",
   "id": "bc8c4714-d5ae-4eef-a584-275766a8b124",
   "metadata": {},
   "source": [
    "### Three-dimensional arrays"
   ]
  },
  {
   "cell_type": "code",
   "execution_count": 29,
   "id": "ee7c6e55-ef68-43ef-8ed1-2571fb327525",
   "metadata": {},
   "outputs": [
    {
     "data": {
      "text/plain": [
       "array([[[1, 2, 3],\n",
       "        [3, 4, 5]],\n",
       "\n",
       "       [[5, 6, 7],\n",
       "        [7, 8, 9]]])"
      ]
     },
     "execution_count": 29,
     "metadata": {},
     "output_type": "execute_result"
    }
   ],
   "source": [
    "arr3dim = np.array([[[1,2,3], [3,4,5]], [[5,6,7],[7,8,9]]])\n",
    "arr3dim"
   ]
  },
  {
   "cell_type": "code",
   "execution_count": 16,
   "id": "01b596bf-99e5-47c3-b5b1-312036c91825",
   "metadata": {},
   "outputs": [
    {
     "data": {
      "text/plain": [
       "(2, 2, 3)"
      ]
     },
     "execution_count": 16,
     "metadata": {},
     "output_type": "execute_result"
    }
   ],
   "source": [
    "arr3dim.shape"
   ]
  },
  {
   "cell_type": "markdown",
   "id": "1ecd8d26-f18e-47ef-b5ac-df14a7267ec3",
   "metadata": {},
   "source": [
    "## Using Arrays and Scalars\n",
    "\n",
    "Numpy arrays (or ndarray) allow us to perform matrix operations."
   ]
  },
  {
   "cell_type": "code",
   "execution_count": 30,
   "id": "03bd40d3-494e-4759-aa8c-053d4a97af3a",
   "metadata": {},
   "outputs": [
    {
     "data": {
      "text/plain": [
       "array([[[ 3,  6,  9],\n",
       "        [ 9, 12, 15]],\n",
       "\n",
       "       [[15, 18, 21],\n",
       "        [21, 24, 27]]])"
      ]
     },
     "execution_count": 30,
     "metadata": {},
     "output_type": "execute_result"
    }
   ],
   "source": [
    "# for example, we can use simple multiplication\n",
    "arr3dim * 3"
   ]
  },
  {
   "cell_type": "code",
   "execution_count": 28,
   "id": "acc681cd-0ebd-4713-b729-4e737ec352c7",
   "metadata": {},
   "outputs": [
    {
     "data": {
      "text/plain": [
       "[10, 20, 30, 10, 20, 30, 10, 20, 30]"
      ]
     },
     "execution_count": 28,
     "metadata": {},
     "output_type": "execute_result"
    }
   ],
   "source": [
    "# how is this different than trying to do: \n",
    "list1 * 3\n",
    "\n",
    "# lists and arrays are treated differently, see below:"
   ]
  },
  {
   "cell_type": "code",
   "execution_count": 31,
   "id": "8913aff1-d683-4c25-8569-862b709ba172",
   "metadata": {},
   "outputs": [
    {
     "data": {
      "text/plain": [
       "array([ 400, 1000, 1800])"
      ]
     },
     "execution_count": 31,
     "metadata": {},
     "output_type": "execute_result"
    }
   ],
   "source": [
    "# we can actually multiply an array with another array\n",
    "\n",
    "# creat a new array with the same size as arr1\n",
    "arr11 = np.array(list2)\n",
    "\n",
    "# multiply arrays\n",
    "arr1 * arr11"
   ]
  },
  {
   "cell_type": "markdown",
   "id": "b292a34e-bd8e-4d41-b675-1827c5d5de18",
   "metadata": {},
   "source": [
    "### Can we multiply arrays of different shapes?"
   ]
  },
  {
   "cell_type": "code",
   "execution_count": 32,
   "id": "6b42d6db-7328-48a2-a0ad-d22c3857ff13",
   "metadata": {},
   "outputs": [
    {
     "ename": "ValueError",
     "evalue": "operands could not be broadcast together with shapes (3,) (10,) ",
     "output_type": "error",
     "traceback": [
      "\u001b[0;31m---------------------------------------------------------------------------\u001b[0m",
      "\u001b[0;31mValueError\u001b[0m                                Traceback (most recent call last)",
      "Cell \u001b[0;32mIn[32], line 1\u001b[0m\n\u001b[0;32m----> 1\u001b[0m \u001b[43marr1\u001b[49m\u001b[43m \u001b[49m\u001b[38;5;241;43m*\u001b[39;49m\u001b[43m \u001b[49m\u001b[43marr2\u001b[49m\n",
      "\u001b[0;31mValueError\u001b[0m: operands could not be broadcast together with shapes (3,) (10,) "
     ]
    }
   ],
   "source": [
    "arr1 * arr2"
   ]
  },
  {
   "cell_type": "markdown",
   "id": "d9c57554-0b59-4eee-a71d-3e3c372739d9",
   "metadata": {},
   "source": [
    "The answer is NO!"
   ]
  },
  {
   "cell_type": "markdown",
   "id": "e5544d5e-6bc8-4e66-8fcf-df169bb056ff",
   "metadata": {},
   "source": [
    "### It is possible to multiply arrays of different dimensions, but they need the same element size!"
   ]
  },
  {
   "cell_type": "code",
   "execution_count": 33,
   "id": "3bec870c-52b5-4a80-b03c-7952ea129357",
   "metadata": {},
   "outputs": [
    {
     "data": {
      "text/plain": [
       "array([[[ 10,  40,  90],\n",
       "        [ 30,  80, 150]],\n",
       "\n",
       "       [[ 50, 120, 210],\n",
       "        [ 70, 160, 270]]])"
      ]
     },
     "execution_count": 33,
     "metadata": {},
     "output_type": "execute_result"
    }
   ],
   "source": [
    "arr1 * arr3dim"
   ]
  },
  {
   "cell_type": "markdown",
   "id": "e5c64d7c-1b85-449a-a0ef-3fb9cf84b6b0",
   "metadata": {},
   "source": [
    "# Practice"
   ]
  },
  {
   "cell_type": "code",
   "execution_count": 40,
   "id": "2fa3ca3c-c118-4e41-ba6b-9aa3afbc0cf9",
   "metadata": {},
   "outputs": [
    {
     "data": {
      "text/plain": [
       "(2, 5, 4)"
      ]
     },
     "execution_count": 40,
     "metadata": {},
     "output_type": "execute_result"
    }
   ],
   "source": [
    "# 1d array\n",
    "my_list = [1,2,3]\n",
    "my_arr = np.array(my_list)\n",
    "my_arr\n",
    "\n",
    "#2d array\n",
    "my_2d_arr = np.array([[1,2,3,4],[1,2,5,6],[4,5,6,7]])\n",
    "my_2d_arr.shape\n",
    "\n",
    "#3d array\n",
    "my_3d_arr = np.array([[[1,2,3,4],[2,3,4,5],[3,4,5,6],[4,5,6,7],[5,6,7,8]],\n",
    "                      [[2,3,4,5],[5,4,3,2],[6,5,4,3],[7,6,5,4],[8,7,6,5]]])\n",
    "my_3d_arr.shape"
   ]
  },
  {
   "cell_type": "markdown",
   "id": "5745e94f-c607-4651-aa4f-0d774f39532c",
   "metadata": {},
   "source": [
    "### Accessing the values inside ndarrays\n",
    "\n",
    "Let's take arr3 as our examply, this was a 2d array"
   ]
  },
  {
   "cell_type": "code",
   "execution_count": 44,
   "id": "ed4c2c79-0dde-46b8-a0c8-cc6fa00cb2a7",
   "metadata": {},
   "outputs": [
    {
     "data": {
      "text/plain": [
       "array([[10, 20, 30],\n",
       "       [40, 50, 60]])"
      ]
     },
     "execution_count": 44,
     "metadata": {},
     "output_type": "execute_result"
    }
   ],
   "source": [
    "# how can we access the 60?\n",
    "arr3"
   ]
  },
  {
   "cell_type": "code",
   "execution_count": 46,
   "id": "17818e0f-ebc1-4241-a953-77f9d984a0e5",
   "metadata": {},
   "outputs": [
    {
     "data": {
      "text/plain": [
       "np.int64(60)"
      ]
     },
     "execution_count": 46,
     "metadata": {},
     "output_type": "execute_result"
    }
   ],
   "source": [
    "# we can use indexing\n",
    "arr3[1][2]"
   ]
  },
  {
   "cell_type": "code",
   "execution_count": 47,
   "id": "b9152d1c-7059-4b38-bd2e-689bd298af6e",
   "metadata": {},
   "outputs": [
    {
     "data": {
      "text/plain": [
       "np.int64(60)"
      ]
     },
     "execution_count": 47,
     "metadata": {},
     "output_type": "execute_result"
    }
   ],
   "source": [
    "# we can use a comma!\n",
    "arr3[1,2]"
   ]
  },
  {
   "cell_type": "code",
   "execution_count": 48,
   "id": "9b8c0e85-fd78-442c-ae04-9c61e332b58d",
   "metadata": {},
   "outputs": [
    {
     "data": {
      "text/plain": [
       "array([40, 50, 60])"
      ]
     },
     "execution_count": 48,
     "metadata": {},
     "output_type": "execute_result"
    }
   ],
   "source": [
    "# how can I get the bottom 'row' of this ndarray?\n",
    "arr3[1]"
   ]
  },
  {
   "cell_type": "code",
   "execution_count": 50,
   "id": "d84d3876-c452-4689-bb53-0bf25acab925",
   "metadata": {},
   "outputs": [
    {
     "data": {
      "text/plain": [
       "array([30, 60])"
      ]
     },
     "execution_count": 50,
     "metadata": {},
     "output_type": "execute_result"
    }
   ],
   "source": [
    "# how about if we just want the last COLUMN?\n",
    "# meaning everything, so see below\n",
    "arr3[:,2]\n",
    "# for each array in this 2d array, give me index 2"
   ]
  },
  {
   "cell_type": "markdown",
   "id": "76bba8b3-327a-4982-9547-799388fc53f4",
   "metadata": {},
   "source": [
    "## Statistical functions and arrays\n",
    "\n",
    "There are a number of built-in statistical functions we can use with numpy"
   ]
  },
  {
   "cell_type": "code",
   "execution_count": 52,
   "id": "a6427556-d5b2-4fd2-a667-1733b7681053",
   "metadata": {},
   "outputs": [
    {
     "data": {
      "text/plain": [
       "np.int64(210)"
      ]
     },
     "execution_count": 52,
     "metadata": {},
     "output_type": "execute_result"
    }
   ],
   "source": [
    "# finding the sum of all values \n",
    "arr3.sum()"
   ]
  },
  {
   "cell_type": "code",
   "execution_count": 54,
   "id": "92d04836-f455-4310-8ebc-eb028ff6f33d",
   "metadata": {},
   "outputs": [
    {
     "data": {
      "text/plain": [
       "array([50, 70, 90])"
      ]
     },
     "execution_count": 54,
     "metadata": {},
     "output_type": "execute_result"
    }
   ],
   "source": [
    "# finding the sum of all columns\n",
    "arr3.sum(0)"
   ]
  },
  {
   "cell_type": "code",
   "execution_count": 56,
   "id": "0ab85f96-3b58-4518-b8c6-99a1d9c1f0c6",
   "metadata": {},
   "outputs": [
    {
     "data": {
      "text/plain": [
       "array([ 60, 150])"
      ]
     },
     "execution_count": 56,
     "metadata": {},
     "output_type": "execute_result"
    }
   ],
   "source": [
    "# finding the sum of all rows \n",
    "arr3.sum(1)"
   ]
  },
  {
   "cell_type": "code",
   "execution_count": 57,
   "id": "39659424-7cd0-4200-a0b3-f032fc4bdf11",
   "metadata": {},
   "outputs": [
    {
     "data": {
      "text/plain": [
       "np.float64(35.0)"
      ]
     },
     "execution_count": 57,
     "metadata": {},
     "output_type": "execute_result"
    }
   ],
   "source": [
    "# finding the mean \n",
    "arr3.mean()"
   ]
  },
  {
   "cell_type": "code",
   "execution_count": 59,
   "id": "e3df421e-f4b0-47bb-bfb8-b234a9e78238",
   "metadata": {},
   "outputs": [
    {
     "data": {
      "text/plain": [
       "np.float64(17.07825127659933)"
      ]
     },
     "execution_count": 59,
     "metadata": {},
     "output_type": "execute_result"
    }
   ],
   "source": [
    "# finding the standard deviation \n",
    "arr3.std()"
   ]
  },
  {
   "cell_type": "code",
   "execution_count": 60,
   "id": "66bb3c10-846b-4dff-a2e7-a3d72dd518c7",
   "metadata": {},
   "outputs": [
    {
     "data": {
      "text/plain": [
       "np.float64(291.6666666666667)"
      ]
     },
     "execution_count": 60,
     "metadata": {},
     "output_type": "execute_result"
    }
   ],
   "source": [
    "# finding the variance \n",
    "arr3.var()"
   ]
  },
  {
   "cell_type": "code",
   "execution_count": 61,
   "id": "c6711ce3-70f1-400b-8990-69c03c7d5edd",
   "metadata": {},
   "outputs": [
    {
     "data": {
      "text/plain": [
       "np.int64(10)"
      ]
     },
     "execution_count": 61,
     "metadata": {},
     "output_type": "execute_result"
    }
   ],
   "source": [
    "# finding min value\n",
    "arr3.min()"
   ]
  },
  {
   "cell_type": "code",
   "execution_count": 62,
   "id": "2678ce07-c453-420a-80c9-9cf0527e8450",
   "metadata": {},
   "outputs": [
    {
     "data": {
      "text/plain": [
       "np.int64(60)"
      ]
     },
     "execution_count": 62,
     "metadata": {},
     "output_type": "execute_result"
    }
   ],
   "source": [
    "# finding max value\n",
    "arr3.max()"
   ]
  },
  {
   "cell_type": "markdown",
   "id": "e5d864aa-c164-4da7-a01b-c0c12b745a9d",
   "metadata": {},
   "source": [
    "## Iterating through ndarrays\n",
    "\n",
    "Simpliest way is to use a simple loop"
   ]
  },
  {
   "cell_type": "code",
   "execution_count": 63,
   "id": "1870437b-eaaa-4084-bba6-def481fcf234",
   "metadata": {},
   "outputs": [
    {
     "name": "stdout",
     "output_type": "stream",
     "text": [
      "10\n",
      "20\n",
      "30\n"
     ]
    }
   ],
   "source": [
    "# for a 1d array \n",
    "for x in arr1:\n",
    "    print(x)"
   ]
  },
  {
   "cell_type": "code",
   "execution_count": 64,
   "id": "f8c07bd9-8bbe-489c-b65c-ce04a8c6bf40",
   "metadata": {},
   "outputs": [
    {
     "name": "stdout",
     "output_type": "stream",
     "text": [
      "10\n",
      "20\n",
      "30\n",
      "40\n",
      "50\n",
      "60\n"
     ]
    }
   ],
   "source": [
    "# how about an n-dimensional array? we can use nested loops\n",
    "for dim in arr3:\n",
    "    for num in dim:\n",
    "        print(num)\n",
    "# arr3 is 2d"
   ]
  },
  {
   "cell_type": "code",
   "execution_count": 65,
   "id": "6450f74d-a46e-4211-9287-2912f6b51aa2",
   "metadata": {},
   "outputs": [
    {
     "name": "stdout",
     "output_type": "stream",
     "text": [
      "10\n",
      "20\n",
      "30\n",
      "40\n",
      "50\n",
      "60\n"
     ]
    }
   ],
   "source": [
    "# there is another way! we can use nditer\n",
    "# this can be used in simple scenarios, but also very complex ones\n",
    "# tends to be much cleaner for nested loops\n",
    "\n",
    "for x in np.nditer(arr3):\n",
    "    print(x)\n",
    "\n",
    "#recommended"
   ]
  },
  {
   "cell_type": "markdown",
   "id": "44ac4d54-693f-4812-bc78-6c979f5c8308",
   "metadata": {},
   "source": [
    "### Saving and loading in numpy"
   ]
  },
  {
   "cell_type": "code",
   "execution_count": 66,
   "id": "e732eb14-aa65-4074-899b-b205428d8d54",
   "metadata": {},
   "outputs": [],
   "source": [
    "# to save an array as a file \n",
    "np.save('name_of_file', arr3)"
   ]
  },
  {
   "cell_type": "code",
   "execution_count": 67,
   "id": "a2ac023b-1c1b-4dd3-8e8d-960b46e92c7a",
   "metadata": {},
   "outputs": [
    {
     "data": {
      "text/plain": [
       "array([[10, 20, 30],\n",
       "       [40, 50, 60]])"
      ]
     },
     "execution_count": 67,
     "metadata": {},
     "output_type": "execute_result"
    }
   ],
   "source": [
    "# load the file \n",
    "np.load('name_of_file.npy')"
   ]
  },
  {
   "cell_type": "code",
   "execution_count": 68,
   "id": "5fb16340-e87f-4c4e-8cac-681aa8c8d317",
   "metadata": {},
   "outputs": [],
   "source": [
    "# saving as a txt \n",
    "np.savetxt('file_name.txt', arr3, delimiter=',')"
   ]
  },
  {
   "cell_type": "code",
   "execution_count": 69,
   "id": "266b69d0-d9a2-4e07-88b9-f8bacf76e41f",
   "metadata": {},
   "outputs": [
    {
     "data": {
      "text/plain": [
       "array([[10., 20., 30.],\n",
       "       [40., 50., 60.]])"
      ]
     },
     "execution_count": 69,
     "metadata": {},
     "output_type": "execute_result"
    }
   ],
   "source": [
    "# loading a txt\n",
    "np.loadtxt('file_name.txt', delimiter=',')"
   ]
  },
  {
   "cell_type": "code",
   "execution_count": null,
   "id": "d25f8e90-169f-4130-8553-b7420dc5ff75",
   "metadata": {},
   "outputs": [],
   "source": []
  }
 ],
 "metadata": {
  "kernelspec": {
   "display_name": "Python 3 (ipykernel)",
   "language": "python",
   "name": "python3"
  },
  "language_info": {
   "codemirror_mode": {
    "name": "ipython",
    "version": 3
   },
   "file_extension": ".py",
   "mimetype": "text/x-python",
   "name": "python",
   "nbconvert_exporter": "python",
   "pygments_lexer": "ipython3",
   "version": "3.13.0"
  }
 },
 "nbformat": 4,
 "nbformat_minor": 5
}
