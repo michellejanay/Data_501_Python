{
 "cells": [
  {
   "cell_type": "markdown",
   "id": "f56b930a-5347-478e-8871-8aabf360c47f",
   "metadata": {},
   "source": [
    "# Numpy"
   ]
  },
  {
   "cell_type": "markdown",
   "id": "c581d9e3-a44e-424b-bebf-72a02ab036ca",
   "metadata": {},
   "source": [
    "Numpy is a library which provides support for large, homogeneous, multi-dimensional arrays and matrices"
   ]
  },
  {
   "cell_type": "code",
   "execution_count": 2,
   "id": "58b50ab1-0642-4cd3-853c-f76be9b48937",
   "metadata": {},
   "outputs": [],
   "source": [
    "import numpy as np"
   ]
  },
  {
   "cell_type": "markdown",
   "id": "54a1247f-6a44-4559-99d6-1071bfdb19e4",
   "metadata": {},
   "source": [
    "## Creating a list in Numpy\n",
    "\n",
    "### Creating an array from a list"
   ]
  },
  {
   "cell_type": "code",
   "execution_count": 9,
   "id": "e828e197-9d0b-4d71-a1f6-fa60faca2669",
   "metadata": {},
   "outputs": [
    {
     "data": {
      "text/plain": [
       "[10, 20, 30]"
      ]
     },
     "execution_count": 9,
     "metadata": {},
     "output_type": "execute_result"
    }
   ],
   "source": [
    "list1 = [10, 20, 30]\n",
    "list1"
   ]
  },
  {
   "cell_type": "code",
   "execution_count": 8,
   "id": "98f7105a-61f4-4b63-9a25-ed724691ce43",
   "metadata": {},
   "outputs": [
    {
     "data": {
      "text/plain": [
       "array([10, 20, 30])"
      ]
     },
     "execution_count": 8,
     "metadata": {},
     "output_type": "execute_result"
    }
   ],
   "source": [
    "arr1 = np.array(list1)\n",
    "arr1"
   ]
  },
  {
   "cell_type": "code",
   "execution_count": 6,
   "id": "810ab7f4-a5e0-46d5-9636-5621a2276d87",
   "metadata": {},
   "outputs": [
    {
     "data": {
      "text/plain": [
       "numpy.ndarray"
      ]
     },
     "execution_count": 6,
     "metadata": {},
     "output_type": "execute_result"
    }
   ],
   "source": [
    "type(arr1)"
   ]
  },
  {
   "cell_type": "markdown",
   "id": "f044dc59-3e03-42dd-85fe-6c9a60380203",
   "metadata": {},
   "source": [
    "## Using arrange to create an array\n",
    "\n",
    "The difference between array and arrange is that array takes in a list and turns it into an array, whereas arrange creates an array from a range of numbers."
   ]
  },
  {
   "cell_type": "code",
   "execution_count": 7,
   "id": "39bca461-5138-4a0c-91e5-3d06d0e5881a",
   "metadata": {},
   "outputs": [
    {
     "data": {
      "text/plain": [
       "array([10, 11, 12, 13, 14, 15, 16, 17, 18, 19])"
      ]
     },
     "execution_count": 7,
     "metadata": {},
     "output_type": "execute_result"
    }
   ],
   "source": [
    "arr2 = np.arange(10, 20, 1) # (start, stop, step-size)\n",
    "arr2"
   ]
  },
  {
   "cell_type": "markdown",
   "id": "fc5e1ac1-68b4-4d3a-a783-9c439eb1d34f",
   "metadata": {},
   "source": [
    "## Multideminsional arrays\n",
    "\n",
    "### Combining two list - Two-dimensional arrays\n",
    "\n",
    "When we combine arrays together, we can add dimensions. Combining two arrays gives us a 2d array!\n",
    "\n",
    "This creates a matrix for us on which we can perform matrix operations."
   ]
  },
  {
   "cell_type": "code",
   "execution_count": 12,
   "id": "9aa171ef-0e91-455a-b31e-d4f1f75aaee5",
   "metadata": {},
   "outputs": [
    {
     "data": {
      "text/plain": [
       "array([[10, 20, 30],\n",
       "       [40, 50, 60]])"
      ]
     },
     "execution_count": 12,
     "metadata": {},
     "output_type": "execute_result"
    }
   ],
   "source": [
    "# let's create a new list to join onto the first list \n",
    "list2 = [40, 50, 60]\n",
    "\n",
    "# join the lists\n",
    "list3 = [list1, list2]\n",
    "\n",
    "# create an array out of the joined lists\n",
    "arr3 = np.array(list3)\n",
    "arr3"
   ]
  },
  {
   "cell_type": "code",
   "execution_count": 14,
   "id": "9fd6c908-dfdb-4ba1-b2a4-914297093d28",
   "metadata": {},
   "outputs": [
    {
     "data": {
      "text/plain": [
       "(2, 3)"
      ]
     },
     "execution_count": 14,
     "metadata": {},
     "output_type": "execute_result"
    }
   ],
   "source": [
    "# lets find the shape of that array\n",
    "# we have a 2d array, with 2 elements in the first instance and 3 in the second\n",
    "\n",
    "arr3.shape"
   ]
  }
 ],
 "metadata": {
  "kernelspec": {
   "display_name": "Python 3 (ipykernel)",
   "language": "python",
   "name": "python3"
  },
  "language_info": {
   "codemirror_mode": {
    "name": "ipython",
    "version": 3
   },
   "file_extension": ".py",
   "mimetype": "text/x-python",
   "name": "python",
   "nbconvert_exporter": "python",
   "pygments_lexer": "ipython3",
   "version": "3.13.0"
  }
 },
 "nbformat": 4,
 "nbformat_minor": 5
}
